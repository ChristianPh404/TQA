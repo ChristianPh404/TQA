{
 "cells": [
  {
   "cell_type": "markdown",
   "id": "5553ee0c-2f66-4081-b952-d4cefa0cfcf8",
   "metadata": {},
   "source": [
    "# 1-hexene"
   ]
  },
  {
   "cell_type": "markdown",
   "id": "e480c5ad-5979-40a0-9c83-521c8a0d67f4",
   "metadata": {
    "tags": []
   },
   "source": [
    " ### propiedades termodinamicas "
   ]
  },
  {
   "cell_type": "code",
   "execution_count": 199,
   "id": "504a3cad-c96b-4b46-9b60-adccc2a33574",
   "metadata": {
    "tags": []
   },
   "outputs": [
    {
     "data": {
      "text/html": [
       "<style type=\"text/css\">\n",
       "#T_053e8 .col7 {\n",
       "  max-width: 100px;\n",
       "}\n",
       "</style>\n",
       "<table id=\"T_053e8\">\n",
       "  <thead>\n",
       "    <tr>\n",
       "      <th class=\"blank level0\" >&nbsp;</th>\n",
       "      <th id=\"T_053e8_level0_col0\" class=\"col_heading level0 col0\" >Fuente</th>\n",
       "      <th id=\"T_053e8_level0_col1\" class=\"col_heading level0 col1\" >Δf H° liquid (kJ/mol)</th>\n",
       "      <th id=\"T_053e8_level0_col2\" class=\"col_heading level0 col2\" >Δf H° gas (kJ/mol)</th>\n",
       "      <th id=\"T_053e8_level0_col3\" class=\"col_heading level0 col3\" >S° liquid (J/(mol·K))</th>\n",
       "      <th id=\"T_053e8_level0_col4\" class=\"col_heading level0 col4\" >Tc (K)</th>\n",
       "      <th id=\"T_053e8_level0_col5\" class=\"col_heading level0 col5\" >Pc $\\times$1E-06(Pa)</th>\n",
       "      <th id=\"T_053e8_level0_col6\" class=\"col_heading level0 col6\" >$ρ_c$ (kg/m³)</th>\n",
       "      <th id=\"T_053e8_level0_col7\" class=\"col_heading level0 col7\" >$T_{boil}$ (K)</th>\n",
       "      <th id=\"T_053e8_level0_col8\" class=\"col_heading level0 col8\" >Tfus (K)</th>\n",
       "      <th id=\"T_053e8_level0_col9\" class=\"col_heading level0 col9\" >Vc (cm³/mol)</th>\n",
       "      <th id=\"T_053e8_level0_col10\" class=\"col_heading level0 col10\" >Zc </th>\n",
       "      <th id=\"T_053e8_level0_col11\" class=\"col_heading level0 col11\" > $\\omega$</th>\n",
       "    </tr>\n",
       "  </thead>\n",
       "  <tbody>\n",
       "    <tr>\n",
       "      <th id=\"T_053e8_level0_row0\" class=\"row_heading level0 row0\" >0</th>\n",
       "      <td id=\"T_053e8_row0_col0\" class=\"data row0 col0\" >NIST</td>\n",
       "      <td id=\"T_053e8_row0_col1\" class=\"data row0 col1\" >-73.300000</td>\n",
       "      <td id=\"T_053e8_row0_col2\" class=\"data row0 col2\" >-42.200000</td>\n",
       "      <td id=\"T_053e8_row0_col3\" class=\"data row0 col3\" >295.180000</td>\n",
       "      <td id=\"T_053e8_row0_col4\" class=\"data row0 col4\" >504.000000</td>\n",
       "      <td id=\"T_053e8_row0_col5\" class=\"data row0 col5\" >3.210000</td>\n",
       "      <td id=\"T_053e8_row0_col6\" class=\"data row0 col6\" >237.330000</td>\n",
       "      <td id=\"T_053e8_row0_col7\" class=\"data row0 col7\" >337.200000</td>\n",
       "      <td id=\"T_053e8_row0_col8\" class=\"data row0 col8\" >133.400000</td>\n",
       "      <td id=\"T_053e8_row0_col9\" class=\"data row0 col9\" >355.100000</td>\n",
       "      <td id=\"T_053e8_row0_col10\" class=\"data row0 col10\" ></td>\n",
       "      <td id=\"T_053e8_row0_col11\" class=\"data row0 col11\" ></td>\n",
       "    </tr>\n",
       "    <tr>\n",
       "      <th id=\"T_053e8_level0_row1\" class=\"row_heading level0 row1\" >1</th>\n",
       "      <td id=\"T_053e8_row1_col0\" class=\"data row1 col0\" >Chemeo</td>\n",
       "      <td id=\"T_053e8_row1_col1\" class=\"data row1 col1\" >-73.140000</td>\n",
       "      <td id=\"T_053e8_row1_col2\" class=\"data row1 col2\" >-42.430000</td>\n",
       "      <td id=\"T_053e8_row1_col3\" class=\"data row1 col3\" >295.180000</td>\n",
       "      <td id=\"T_053e8_row1_col4\" class=\"data row1 col4\" >504.000000</td>\n",
       "      <td id=\"T_053e8_row1_col5\" class=\"data row1 col5\" >3.210000</td>\n",
       "      <td id=\"T_053e8_row1_col6\" class=\"data row1 col6\" >237.330000</td>\n",
       "      <td id=\"T_053e8_row1_col7\" class=\"data row1 col7\" >337.090000</td>\n",
       "      <td id=\"T_053e8_row1_col8\" class=\"data row1 col8\" >133.420000</td>\n",
       "      <td id=\"T_053e8_row1_col9\" class=\"data row1 col9\" >355.000000</td>\n",
       "      <td id=\"T_053e8_row1_col10\" class=\"data row1 col10\" >0.272000</td>\n",
       "      <td id=\"T_053e8_row1_col11\" class=\"data row1 col11\" >0.285000</td>\n",
       "    </tr>\n",
       "    <tr>\n",
       "      <th id=\"T_053e8_level0_row2\" class=\"row_heading level0 row2\" >2</th>\n",
       "      <td id=\"T_053e8_row2_col0\" class=\"data row2 col0\" >CRC</td>\n",
       "      <td id=\"T_053e8_row2_col1\" class=\"data row2 col1\" >-74.200000</td>\n",
       "      <td id=\"T_053e8_row2_col2\" class=\"data row2 col2\" >-43.500000</td>\n",
       "      <td id=\"T_053e8_row2_col3\" class=\"data row2 col3\" >295.200000</td>\n",
       "      <td id=\"T_053e8_row2_col4\" class=\"data row2 col4\" >504.000000</td>\n",
       "      <td id=\"T_053e8_row2_col5\" class=\"data row2 col5\" >3.210000</td>\n",
       "      <td id=\"T_053e8_row2_col6\" class=\"data row2 col6\" ></td>\n",
       "      <td id=\"T_053e8_row2_col7\" class=\"data row2 col7\" >336.630000</td>\n",
       "      <td id=\"T_053e8_row2_col8\" class=\"data row2 col8\" >133.390000</td>\n",
       "      <td id=\"T_053e8_row2_col9\" class=\"data row2 col9\" >355.100000</td>\n",
       "      <td id=\"T_053e8_row2_col10\" class=\"data row2 col10\" >0.265000</td>\n",
       "      <td id=\"T_053e8_row2_col11\" class=\"data row2 col11\" >0.280000</td>\n",
       "    </tr>\n",
       "    <tr>\n",
       "      <th id=\"T_053e8_level0_row3\" class=\"row_heading level0 row3\" >3</th>\n",
       "      <td id=\"T_053e8_row3_col0\" class=\"data row3 col0\" >PGL</td>\n",
       "      <td id=\"T_053e8_row3_col1\" class=\"data row3 col1\" ></td>\n",
       "      <td id=\"T_053e8_row3_col2\" class=\"data row3 col2\" >-41.950000</td>\n",
       "      <td id=\"T_053e8_row3_col3\" class=\"data row3 col3\" ></td>\n",
       "      <td id=\"T_053e8_row3_col4\" class=\"data row3 col4\" >504.000000</td>\n",
       "      <td id=\"T_053e8_row3_col5\" class=\"data row3 col5\" >3.143000</td>\n",
       "      <td id=\"T_053e8_row3_col6\" class=\"data row3 col6\" ></td>\n",
       "      <td id=\"T_053e8_row3_col7\" class=\"data row3 col7\" >336.630000</td>\n",
       "      <td id=\"T_053e8_row3_col8\" class=\"data row3 col8\" >133.340000</td>\n",
       "      <td id=\"T_053e8_row3_col9\" class=\"data row3 col9\" >355.100000</td>\n",
       "      <td id=\"T_053e8_row3_col10\" class=\"data row3 col10\" >0.266000</td>\n",
       "      <td id=\"T_053e8_row3_col11\" class=\"data row3 col11\" >0.281000</td>\n",
       "    </tr>\n",
       "    <tr>\n",
       "      <th id=\"T_053e8_level0_row4\" class=\"row_heading level0 row4\" >4</th>\n",
       "      <td id=\"T_053e8_row4_col0\" class=\"data row4 col0\" >Fuente 5</td>\n",
       "      <td id=\"T_053e8_row4_col1\" class=\"data row4 col1\" ></td>\n",
       "      <td id=\"T_053e8_row4_col2\" class=\"data row4 col2\" ></td>\n",
       "      <td id=\"T_053e8_row4_col3\" class=\"data row4 col3\" ></td>\n",
       "      <td id=\"T_053e8_row4_col4\" class=\"data row4 col4\" ></td>\n",
       "      <td id=\"T_053e8_row4_col5\" class=\"data row4 col5\" ></td>\n",
       "      <td id=\"T_053e8_row4_col6\" class=\"data row4 col6\" ></td>\n",
       "      <td id=\"T_053e8_row4_col7\" class=\"data row4 col7\" >2.000000</td>\n",
       "      <td id=\"T_053e8_row4_col8\" class=\"data row4 col8\" ></td>\n",
       "      <td id=\"T_053e8_row4_col9\" class=\"data row4 col9\" ></td>\n",
       "      <td id=\"T_053e8_row4_col10\" class=\"data row4 col10\" ></td>\n",
       "      <td id=\"T_053e8_row4_col11\" class=\"data row4 col11\" ></td>\n",
       "    </tr>\n",
       "    <tr>\n",
       "      <th id=\"T_053e8_level0_row5\" class=\"row_heading level0 row5\" >5</th>\n",
       "      <td id=\"T_053e8_row5_col0\" class=\"data row5 col0\" >Media</td>\n",
       "      <td id=\"T_053e8_row5_col1\" class=\"data row5 col1\" >-73.546667</td>\n",
       "      <td id=\"T_053e8_row5_col2\" class=\"data row5 col2\" >-42.520000</td>\n",
       "      <td id=\"T_053e8_row5_col3\" class=\"data row5 col3\" >295.186667</td>\n",
       "      <td id=\"T_053e8_row5_col4\" class=\"data row5 col4\" >504.000000</td>\n",
       "      <td id=\"T_053e8_row5_col5\" class=\"data row5 col5\" >3.193250</td>\n",
       "      <td id=\"T_053e8_row5_col6\" class=\"data row5 col6\" >237.330000</td>\n",
       "      <td id=\"T_053e8_row5_col7\" class=\"data row5 col7\" >269.910000</td>\n",
       "      <td id=\"T_053e8_row5_col8\" class=\"data row5 col8\" >133.387500</td>\n",
       "      <td id=\"T_053e8_row5_col9\" class=\"data row5 col9\" >355.075000</td>\n",
       "      <td id=\"T_053e8_row5_col10\" class=\"data row5 col10\" >0.267667</td>\n",
       "      <td id=\"T_053e8_row5_col11\" class=\"data row5 col11\" >0.282000</td>\n",
       "    </tr>\n",
       "  </tbody>\n",
       "</table>\n"
      ],
      "text/plain": [
       "<pandas.io.formats.style.Styler at 0x26756e08990>"
      ]
     },
     "execution_count": 199,
     "metadata": {},
     "output_type": "execute_result"
    }
   ],
   "source": [
    "import pandas as pd\n",
    "\n",
    "# Configurar el formato de números para todas las columnas antes de crear el DataFrame\n",
    "pd.options.display.float_format = '{:.2f}'.format\n",
    "\n",
    "data = {\n",
    "    'Fuente': ['NIST', 'Chemeo', 'CRC', 'PGL', 'Fuente 5'],\n",
    "    'Δf H° liquid (kJ/mol)': [-73.3, -73.14, -74.2, None, None],\n",
    "    'Δf H° gas (kJ/mol)': [-42.2, -42.43, -43.5,-41.95 , None],\n",
    "    'S° liquid (J/(mol·K))': [295.18, 295.18,  295.2, None,None],\n",
    "    'Tc (K)': [504.0, 504.0, 504.0, 504.00, None],\n",
    "    'Pc $\\\\times$1E-06(Pa)': [3.21, 3.21,3.21, 3.143, None],\n",
    "    '$ρ_c$ (kg/m³)': [237.33, 237.33, None, None, None],\n",
    "    '$T_{boil}$ (K)': [337.2, 337.09, 336.63, 336.63, 2], \n",
    "    'Tfus (K)': [133.4, 133.42, 133.39, 133.34, None],\n",
    "    'Vc (cm³/mol)': [355.1, 355,355.1 ,355.1, None],\n",
    "    'Zc ': [None, 0.272, 0.265, 0.266, None],\n",
    "    ' $\\omega$': [None, 0.2850, 0.280, 0.281, None],\n",
    "}\n",
    "\n",
    "df = pd.DataFrame(data)\n",
    "\n",
    "# Calcular la media de todas las columnas y el argumento asegura que solo se hagan en las columnas numéricas\n",
    "media = df.mean(numeric_only=True)\n",
    "# Se establece el valor de la columna 'Fuente' en el objeto media en 'Media'. Esto crea una columna de media que se utilizará para representar las medias en el DataFrame resultante.\n",
    "media['Fuente'] = 'Media'\n",
    "\n",
    "# El objeto media se convierte en un nuevo DataFrame llamado media_df. Luego se transpone para que sea un vector fila en lugar de un vector columna.\n",
    "media_df = pd.DataFrame(media).transpose()\n",
    "# Reemplazar valores None por una cadena vacía ('') en el DataFrame\n",
    "df = df.replace([None, np.nan], '')\n",
    "# Concatenar el DataFrame de media con el DataFrame original\n",
    "df = pd.concat([df, media_df], ignore_index=True)\n",
    "df = df.style.set_table_styles([\n",
    "    {'selector': '.col7',\n",
    "     'props': [('max-width', '100px')]}\n",
    "])\n",
    "\n",
    "pd.set_option('display.max_colwidth', 100)\n",
    "\n",
    "df\n"
   ]
  },
  {
   "cell_type": "code",
   "execution_count": 200,
   "id": "cff7e84c-81d3-4e1b-90ef-c21b2bcda447",
   "metadata": {
    "tags": []
   },
   "outputs": [],
   "source": [
    "# Calculador parametros joback "
   ]
  },
  {
   "cell_type": "code",
   "execution_count": 202,
   "id": "ff5f53b6-466e-4b80-92ea-01b69bd492b9",
   "metadata": {
    "tags": []
   },
   "outputs": [
    {
     "name": "stdin",
     "output_type": "stream",
     "text": [
      "Ingrese el valor para el grupo químico \"-CH3\":  3\n",
      "Ingrese el valor para el grupo químico \"-CH2-\":  2\n",
      "Ingrese el valor para el grupo químico \">CH-\":  \n",
      "Ingrese el valor para el grupo químico \"=CH2 \":  \n",
      "Ingrese el valor para el grupo químico \"=CH- \":  2\n",
      "Ingrese el valor para el grupo químico \"=C<\":  exit\n"
     ]
    },
    {
     "name": "stdout",
     "output_type": "stream",
     "text": [
      "Grupos químicos seleccionados y sus valores:\n",
      "-CH3: 3.0\n",
      "-CH2-: 0\n",
      ">CH-: 0\n",
      "=CH2 : 0\n",
      "=CH- : 2.0\n",
      "=C<: 0\n",
      "=C= : 0\n",
      "$\\equiv$CH: 0\n",
      "$\\equiv$C-: 0\n",
      "-F: 0\n",
      "-Cl : 0\n",
      "-Br: 0\n",
      "-I: 0\n",
      "-0H (alcohol): 0\n",
      "-0H (phenol): 0\n",
      "-O- (nonring) : 0\n",
      "-O- (ring): 0\n",
      ">C=O (nonring): 0\n",
      ">C=O (ring): 0\n",
      "O=CH- (aldehyde): 0\n",
      "-COOH (acid): 0\n",
      "-COO- (ester): 0\n",
      "=O (except as above): 0\n",
      "-NH2: 0\n",
      ">NH (nonring): 0\n",
      ">NH (ring): 0\n",
      ">N- (nonring): 0\n",
      "  -N= (nonring) : 0\n",
      " -N= (ring): 0\n",
      " =NH: 0\n",
      " -CN: 0\n",
      " -NO2 : 0\n",
      " -SH : 0\n",
      " -S- (nonring): 0\n",
      " -S- (ring): 0\n"
     ]
    }
   ],
   "source": [
    "import numpy as np\n",
    "from IPython.display import display, Math\n",
    "\n",
    "# Crear un diccionario para almacenar los grupos químicos y sus valores\n",
    "grupos_quimicos = {}\n",
    "\n",
    "# Lista de grupos químicos necesarios\n",
    "grupos_necesarios = [\n",
    "    '-CH3','-CH2-','>CH-','=CH2 ','=CH- ','=C<','=C= ','$\\equiv$CH','$\\equiv$C-','-CH2-','>CH-','-F','-Cl ','-Br','-I','-0H (alcohol)','-0H (phenol)','-O- (nonring) ','-O- (ring)','>C=O (nonring)','>C=O (ring)','O=CH- (aldehyde)','-COOH (acid)','-COO- (ester)','=O (except -NO2)','-NH2','>NH (nonring)','>NH (ring)','>N- (nonring)','  -N= (nonring) ',' -N= (ring)',' =NH',' -CN',' -NO2 ',' -SH ',' -S- (nonring)' ,' -S- (ring)'\n",
    "]\n",
    "\n",
    "# Inicializar el contador de grupos químicos seleccionados\n",
    "grupos_seleccionados = 0\n",
    "\n",
    "# Pedir al usuario que ingrese valores para los grupos químicos\n",
    "for grupo_quimico in grupos_necesarios:\n",
    "    valor = input(f'Introducir cantidad de \"{grupo_quimico}\":, pulsar enter para que cuente como 0 y escribir exit para finalizar: ')\n",
    "    \n",
    "    # Si presionas Enter sin ingresar un valor, se entenderá como 0.\n",
    "    if valor == '':\n",
    "        valor = 0\n",
    "    # Si ingresas \"exit\", se finaliza la entrada de valores.\n",
    "    elif valor.lower() == 'exit':\n",
    "        break\n",
    "    else:\n",
    "        # Intenta convertir el valor ingresado en un número.\n",
    "        try:\n",
    "            valor = float(valor)\n",
    "        except ValueError:\n",
    "            print('Valor no válido. Intente de nuevo.')\n",
    "            continue\n",
    "    \n",
    "    grupos_quimicos[grupo_quimico] = valor\n",
    "\n",
    "#vectores joback\n",
    "Tc=np.array([0.0141,0.0189,0.0164,0.0067,0.0113,0.0129,0.0117,0.0026,0.0027,0.0020,0.0100,0.0122,0.0042,0.0082,0.0143,0.0111,0.0105,0.0133,0.0068,0.0741,0.0240,0.0168,0.0098,0.0380,0.0284,0.0379,0.0791,0.0481,0.0143,0.0243,0.0295,0.0130,0.0169,0.0255,0.0085,None,0.0496,0.0437,0.0031,0.0119,0.0019])\n",
    "Pc=np.array([-0.0012,0,0.0020,0.0043,-0.0028,-0.0006,0.0011,0.0028,-0.0008,0.0016,0.0025,0.0004,0.0061,0.0011,0.0008,-0.0057,-0.0049,0.0057,-0.0034,0.0112,0.0184,0.0015,0.0048,0.0031,0.0028,0.0030,0.0077,0.0005,0.0101,0.0109,0.0077,0.0114,0.0074,-0.0099,0.0076,None,-0.0101,0.0064,0.0084,0.0049,0.0051])\n",
    "Vc=np.array([65,56,41,27,56,46,38,36,46,37,48,38,27,41,32,27,58,71,97,28,-25,18,13,62,55,82,89,82,36,38,35,29,9,None,34,None,91,91,63,54,38])\n",
    "Tb=np.array([23.58,22.88,21.74,18.25,18.18,24.96,24.14,26.15,9.20,27.38,27.15,21.78,21.32,26.73,31.01,-0.03,38.13,66.86,93.84,92.88,76.34,22.42,31.22,76.75,94.97,72.24,169.09,81.10,-10.50,73.23,50.17,52.82,11.74,74.60,57.55,83.08,125.66,152.54,63.56,68.78,52.10])\n",
    "Tf=np.array([-5.10,11.27,12.64,46.43,-4.32,8.73,11.14,17.78,-11.18,64.32,7.75,19.88,60.15,8.13,37.02,-15.78,13.55,43.43,41.69,44.45,82.83,22.23,23.05,61.20,75.97,36.90,155.50,53.60,2.08,66.89,52.66,101.51,48.84,None, 68.40,68.91,59.89,127.24,20.09, 34.40,79.93])\n",
    "AHF=np.array([-76.45,-20.64,29.89,82.23,-9.63,37.97,83.99,142.14,79.30,115.51,-26.80,8.67,79.72,2.09,46.43,-251.92,-71.55,-29.48,21.06,-208.04,-221.65,-132.22,-138.16,-133.22,-164.50,-162.03,-426.72,-337.92,-247.61,-22.02,53.47,31.65,123.34,23.61,55.52,93.70,88.43,-66.57,-17.33,41.87,39.10])\n",
    "AGF=np.array([-43.96,8.42,58.36,116.02,3.77,48.53,92.36,136.70,77.71,109.82,-3.68,40.99,87.88,11.30,54.05,-247.19,-64.31,-38.06,5.74,-189.20,-197.37,-105.00,-98.22,-120.50,-126.27,-143.48,-387.87,-301.95,-250.83,14.07,89.39,75.61,163.16,None,79.93,119.66,89.22,-16.83,-22.99,33.12,27.76])\n",
    "IGCa=np.array([1.95E1,-9.09E-l,-2.30E+1,.-6.62E+1,2.36E+1,-8.00,-2.81E1,2.74E1,2.45E1 ,7.87,-6.03,-2.05E+1,-9.09E+1,-2.14,-8.25,2.65E+1,3.33E+1,2.86E+1,3.21E1,2.57E+1,-2.81,2.55E+1,1.22E+1,6.45,3.04E+1,3.09E+1,2.41E+1,2.45E+1,6.82,2.69E+1,-1.21,1.18E+1,-3.11E+1,None,8.83,5.69,3.65E+1,2.59E+1,3.53E+1,1.96E+1,1.67E+1])\n",
    "IGCb=np.array([-8.08E-3,9.50E-2,2.04E-1,4.27E-1,-3.81E-2,1.05E-1,2.08E-1,-5.57E-2,-2.71E-2,2.01E-2,8.54E-2,1.62E-1,5.57E-1 ,5.74E-2,1.01E-1,-9.13E-2,-9.63E-2,-6.49E-2,-6.41E-2,-6.91E-2,1.11E-1,-6.32E-2,-1.26E-2,6.70E-2,-8.29E-2,-3.36E-2,4.27E-2,4.02E-2,1.96E-2,4.12E-2,7.62E-2,-2.30E-2,2.27E-1,None,-3.84E-3,-4.12E-3,-7.33E-2,-3.74E-3,-7.58E-2,-5.61E-3,4.81E-3])\n",
    "IGCc=np.array([1.53E-4,-5.44E-5,-2.65E-4,-6.41E-4,1.72E-4,-9.63E-5,-3.06E-4,1.01E-4,1.11E-4,-8.33E-6,-8.00E-6,-1.6E-4,-9.00E-4,-1.64E-6,-1.42E-4,1.91E-4,1.87E-4,1.36E-4,1.26E-4,1.77E-4,-1.16E-4,1.11E-4,6.03E-5,-3.57E-5,2.36E-4,1.60E-4,8.04E-5,4.02E-5,1.27E-5,1.64E-4,-4.86E-5,1.07E-4,-3.20E-4,None,4.35E-5,1.28E-4,1.84E-46,1.29E-4,1.85E-4,4.02E-5,2.77E-5])\n",
    "IGCd=np.array([-9.67E-8,1.19E-8,1.20E-7,3.01E-7,-1.03E-7,3.56E-8,1.46E-7,-5.02E-8,-6.78E-8,1.39E-9,-1.80E-8,6.24E-8,4.69E-7,-1.59E-8,6.78E-8,-1.03E-7,-9.96E-8,-7.45E-8,-6.87E-8,-9.88E-8,4.94E-8,-5.48E-8,-3.86E-8,2.86E-9,-1.31E-7,-9.88E-8,-6.87E-8,-4.52E-8,-1.78E-8,-9.76E-8,1.05E-8,-6.28E-8,1.46E-7,None,-2.60E-8,-8.88E-8,-1.03E-7,-8.88E-8,-1.03E-7,-2.76E-8,-2.11E-8])\n",
    "AHV=np.array([2.373,2.226,1.691,0.636,1.724,2.205,2.138,2.661,1.155,3.302,2.398,1.942,0.644,2.544,3.059,-0.670,4.532,6.582,9.520,16.826,12.499,2.410,4.682,8.972,6.645,9.093,19.537,9.633,5.909,10.788,6.436,6.930,1.896,3.335,6.528,12.169,12.851,16.738,6.884,6.817,5.984])\n",
    "AHfl=np.array([0.908,2.590,0.749,-1.460,-0.473,2.691,3.063,4.720,2.322,4.151,0.490,3.243,-1.373,1.101,2.394,1.398,2.515,3.603,2.724,2.406,4.490,1.188,5.879,4.189,None,3.197,11.051,6.959,3.624,3.515,5.009,7.490,4.703,None,3.649,None,2.414,9.679,2.360,4.130,1.557])\n",
    "na=np.array([548.29,94.16,-322.15,-573.56,495.01,82.28,None,None,None,None,307.53,-394.29,None,259.65,-245.74,None,625.45,738.91,809.55,2173.72,3018.17,122.09,440.24,340.35,None,740.92,1317.23,483.88,675.24,None,None,None,None,None,None,None,None,None,None,None,None])\n",
    "nb=np.array([-1.719,-0.199,1.187,2.307,-1.539,-0.242,None,None,None,None,-0.798,1.251,None,-0.702,0.912,None,-1.814,-2.038,-2.224,-5.057,-7.314,-0.386,-0.953,-0.350,None,-1.713,-2.578,-0.966,-1.340,None,None,None,None,None,None,None,None,None,None,None,None])\n",
    "#fin vectores joback\n",
    "# Filtrar los grupos con valores mayores que 0\n",
    "grupos_con_valores = {grupo: valor for grupo, valor in grupos_quimicos.items() if valor > 0}\n",
    "\n",
    "delta_H = r'\\Delta H^\\circ_{f,298}'\n",
    "display(Math(delta_H)) ## simbolo de incremento de entropia pero usar los valores de AHF \n",
    "# Realizar la multiplicación de vectores\n",
    "\n",
    "####################### Verificar que la longitud de los vectores Joback sea igual a la cantidad de grupos químicos ingresados\n",
    "if len(grupos_necesarios) != len(Tc):\n",
    "    print(f\"Error: la cantidad de grupos químicos ({len(grupos_necesarios)}) no coincide con la longitud de los vectores Joback ({len(Tc)}).\")\n",
    "else:\n",
    "    # Realizar la multiplicación de vectores elemento por elemento\n",
    "    resultado = np.array([Tc[i] * grupos_quimicos[grupos_necesarios[i]] for i in range(len(Tc))])\n",
    "\n",
    "    # Filtrar los grupos con valores mayores que 0\n",
    "    grupos_con_valores = {grupo: valor for grupo, valor in grupos_quimicos.items() if valor > 0}\n",
    "\n",
    "    # Mostrar grupos con valores mayores que 0 y la cantidad exacta de estos \n",
    "    for grupo, valor in grupos_con_valores.items():\n",
    "        print(f'{grupo}: {valor}')\n",
    "    \n",
    "    # Imprimir el resultado\n",
    "    print(\"Resultado de la multiplicación:\")\n",
    "    print(resultado)\n",
    "\n",
    "# Mostrar grupos con valores mayores que 0 y la cantidad exacta de estos \n",
    "for grupo, valor in grupos_quimicos.items():\n",
    "    if valor > 0:\n",
    "        print(f'{grupo}: {valor}')\n",
    "#Imprimir el resultado\n",
    "print(\"Resultado de la multiplicación:\")\n",
    "print(resultado)"
   ]
  },
  {
   "cell_type": "markdown",
   "id": "8a2f693c-5cf4-4d68-b463-df36cb0b4b1c",
   "metadata": {
    "tags": []
   },
   "source": [
    "$\\Delta H^\\circ_{f,298}$\n"
   ]
  },
  {
   "cell_type": "code",
   "execution_count": 220,
   "id": "a71d3aa0-d5ab-4395-8c84-c0e66b4224ea",
   "metadata": {
    "tags": []
   },
   "outputs": [
    {
     "name": "stdin",
     "output_type": "stream",
     "text": [
      "Introducir cantidad de \"-CH3\":, pulsar enter para que cuente como 0 y escribir exit para finalizar:  3\n",
      "Introducir cantidad de \"-CH2-\":, pulsar enter para que cuente como 0 y escribir exit para finalizar:  2\n",
      "Introducir cantidad de \">CH-\":, pulsar enter para que cuente como 0 y escribir exit para finalizar:  1\n",
      "Introducir cantidad de \"=CH2 \":, pulsar enter para que cuente como 0 y escribir exit para finalizar:  exit\n"
     ]
    },
    {
     "data": {
      "text/latex": [
       "$\\displaystyle \\Delta H^\\circ_{f,298}$"
      ],
      "text/plain": [
       "<IPython.core.display.Math object>"
      ]
     },
     "metadata": {},
     "output_type": "display_data"
    },
    {
     "name": "stdout",
     "output_type": "stream",
     "text": [
      "-CH3: 3.0\n",
      "-CH2-: 2.0\n",
      ">CH-: 1.0\n"
     ]
    }
   ],
   "source": [
    "import numpy as np\n",
    "from IPython.display import display, Math\n",
    "\n",
    "# Crear un diccionario para almacenar los grupos químicos y sus valores\n",
    "grupos_quimicos = {}\n",
    "\n",
    "# Lista de grupos químicos necesarios\n",
    "grupos_necesarios = [\n",
    "    '-CH3', '-CH2-', '>CH-', '=CH2 ', '=CH- ', '=C<', '=C= ', '$\\equiv$CH', '$\\equiv$C-',\n",
    "    '-CH2-', '>CH-', '-F', '-Cl ', '-Br', '-I', '-0H (alcohol)', '-0H (phenol)',\n",
    "    '-O- (nonring) ', '-O- (ring)', '>C=O (nonring)', '>C=O (ring)', 'O=CH- (aldehyde)',\n",
    "    '-COOH (acid)', '-COO- (ester)', '=O (except as above)', '-NH2', '>NH (nonring)',\n",
    "    '>NH (ring)', '>N- (nonring)', '  -N= (nonring) ', ' -N= (ring)' , ' =NH' , ' -CN',\n",
    "    ' -NO2 ', ' -SH ' , ' -S- (nonring)' , ' -S- (ring)'\n",
    "]\n",
    "\n",
    "# Inicializar el contador de grupos químicos seleccionados\n",
    "grupos_seleccionados = 0\n",
    "\n",
    "# Pedir al usuario que ingrese valores para los grupos químicos\n",
    "for grupo_quimico in grupos_necesarios:\n",
    "    valor = input(f'Introducir cantidad de \"{grupo_quimico}\":, pulsar enter para que cuente como 0 y escribir exit para finalizar: ')\n",
    "    \n",
    "    # Si presionas Enter sin ingresar un valor, se entenderá como 0.\n",
    "    if valor == '':\n",
    "        valor = 0\n",
    "    # Si ingresas \"exit\", se finaliza la entrada de valores.\n",
    "    elif valor.lower() == 'exit':\n",
    "        break\n",
    "    else:\n",
    "        # Intenta convertir el valor ingresado en un número.\n",
    "        try:\n",
    "            valor = float(valor)\n",
    "        except ValueError:\n",
    "            print('Valor no válido. Intente de nuevo.')\n",
    "            continue\n",
    "    \n",
    "    grupos_quimicos[grupo_quimico] = valor\n",
    "\n",
    "# Crear vectores para temperatura, presión y factor\n",
    "Tc=np.array([0.0141,0.0189,0.0164,0.0067,0.0113,0.0129,0.0117,0.0026,0.0027,0.0020,0.0100,0.0122,0.0042,0.0082,0.0143,0.0111,0.0105,0.0133,0.0068,0.0741,0.0240,0.0168,0.0098,0.0380,0.0284,0.0379,0.0791,0.0481,0.0143,0.0243,0.0295,0.0130,0.0169,0.0255,0.0085,None,0.0496,0.0437,0.0031,0.0119,0.0019])\n",
    "Pc=np.array([-0.0012,0,0.0020,0.0043,-0.0028,-0.0006,0.0028,-0.0008,0.0016,0.0025,0.0004,0.0061,0.0011,0.0008,-0.0057,-0.0049,0.0057,-0.0034,0.0112,0.0184,0.0015,0.0048,0.0031,0.0028,0.0030,0.0077,0.0005,0.0101,0.0109,0.0077,0.0114,0.0074,-0.0099,0.0076,None,-0.0101 ,0.0084,0.0049,0.0051])\n",
    "Vc=np.array([65,56,41,27,56,46,38,36,46,37,48,38,27,41,32,27,58,71,97,28,-25,18,13,62,55,82,89,82,36,38,35,29,9,None,34,None,91,91,63,54,38])\n",
    "Tb=np.array([23.58,22.88,21.74,18.25,18.18,24.96,24.14,26.15,9.20,27.38,27.15,21.78,21.32,26.73,31.01,-0.03,38.13,66.86,93.84,92.88,76.34,22.42,31.22,76.75,94.97,72.24,169.09,81.10,-10.50,73.23,50.17,52.82,11.74,74.60,57.55,83.08,125.66,152.54,63.56,68.78,52.10])\n",
    "\n",
    "\n",
    "\n",
    "delta_H = r'\\Delta H^\\circ_{f,298}'\n",
    "display(Math(delta_H)) ## simbolo de incremento de entropia pero usar los valores de AHF \n",
    "# Realizar la multiplicación de vectores\n",
    "##resultado = temperatura * presion * factor * np.array(list(grupos_quimicos.values()))\n",
    "\n",
    "# Filtrar los grupos con valores mayores que 0\n",
    "grupos_con_valores = {grupo: valor for grupo, valor in grupos_quimicos.items() if valor > 0}\n",
    "\n",
    "# Mostrar grupos con valores mayores que 0 y la cantidad exacta de estos \n",
    "for grupo, valor in grupos_quimicos.items():\n",
    "    if valor > 0:\n",
    "        print(f'{grupo}: {valor}')\n",
    "#Imprimir el resultado\n",
    "#print(\"Resultado de la multiplicación:\")\n",
    "#print(resultado)"
   ]
  },
  {
   "cell_type": "code",
   "execution_count": 232,
   "id": "ff476f2c-829d-4354-b8a4-6d83a455bc9d",
   "metadata": {
    "tags": []
   },
   "outputs": [
    {
     "data": {
      "text/plain": [
       "41"
      ]
     },
     "execution_count": 232,
     "metadata": {},
     "output_type": "execute_result"
    }
   ],
   "source": [
    "na=np.array([548.29,94.16,-322.15,-573.56,495.01,82.28,None,None,None,None,307.53,-394.29,None,259.65,-245.74,None,625.45,738.91,809.55,2173.72,3018.17,122.09,440.24,340.35,None,740.92,1317.23,483.88,675.24,None,None,None,None,None,None,None,None,None,None,None,None])\n",
    "len(na)\n"
   ]
  },
  {
   "cell_type": "code",
   "execution_count": 242,
   "id": "1a86f1c5-1b85-46a4-8953-b5c5d942774a",
   "metadata": {
    "tags": []
   },
   "outputs": [
    {
     "data": {
      "text/plain": [
       "41"
      ]
     },
     "execution_count": 242,
     "metadata": {},
     "output_type": "execute_result"
    }
   ],
   "source": [
    "nb=np.array([-1.719,-0.199,1.187,2.307,-1.539,-0.242,None,None,None,None,-0.798,1.251,None,-0.702,0.912,None,-1.814,-2.038,-2.224,-5.057,-7.314,-0.386,-0.953,-0.350,None,-1.713,-2.578,-0.966,-1.340,None,None,None,None,None,None,None,None,None,None,None,None])\n",
    "len(nb)"
   ]
  },
  {
   "cell_type": "code",
   "execution_count": 245,
   "id": "99f189c7-db0e-4280-b723-d1fa87190e55",
   "metadata": {
    "tags": []
   },
   "outputs": [
    {
     "data": {
      "text/plain": [
       "100.0"
      ]
     },
     "execution_count": 245,
     "metadata": {},
     "output_type": "execute_result"
    }
   ],
   "source": []
  },
  {
   "cell_type": "code",
   "execution_count": null,
   "id": "dba527d7-3aa2-41e8-906c-0f120c331cae",
   "metadata": {},
   "outputs": [],
   "source": []
  }
 ],
 "metadata": {
  "kernelspec": {
   "display_name": "Python 3 (ipykernel)",
   "language": "python",
   "name": "python3"
  },
  "language_info": {
   "codemirror_mode": {
    "name": "ipython",
    "version": 3
   },
   "file_extension": ".py",
   "mimetype": "text/x-python",
   "name": "python",
   "nbconvert_exporter": "python",
   "pygments_lexer": "ipython3",
   "version": "3.11.4"
  }
 },
 "nbformat": 4,
 "nbformat_minor": 5
}
