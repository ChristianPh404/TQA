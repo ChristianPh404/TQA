{
 "cells": [
  {
   "cell_type": "markdown",
   "id": "8632a2e3-819e-4809-b45a-07e8942c8ce6",
   "metadata": {},
   "source": [
    "#gas ideal "
   ]
  },
  {
   "cell_type": "markdown",
   "id": "e87fefd4-74e2-4af7-b4d9-1010a600d31f",
   "metadata": {},
   "source": [
    "# gas ideal\n"
   ]
  },
  {
   "cell_type": "markdown",
   "id": "cde8f99a-85b2-408d-b4ed-ff4fecddb709",
   "metadata": {
    "tags": []
   },
   "source": [
    "# calculo de propiedades como gas ideal "
   ]
  },
  {
   "cell_type": "code",
   "execution_count": 1,
   "id": "03921c95-6d34-44cc-84d4-ec9a87278a3e",
   "metadata": {
    "tags": []
   },
   "outputs": [],
   "source": [
    "# Importar librerías necesarias\n",
    "import numpy as np\n",
    "# Constantes y valores de referencia\n",
    "R=8.314\n",
    "T_R=298.15\n",
    "P_R=1e5"
   ]
  },
  {
   "cell_type": "code",
   "execution_count": 2,
   "id": "d017af88-06f0-4d02-ae6d-a83107e2b6d2",
   "metadata": {
    "tags": []
   },
   "outputs": [],
   "source": [
    "# condciones \n",
    "T= 500\n",
    "P= 5e6 "
   ]
  },
  {
   "cell_type": "code",
   "execution_count": 3,
   "id": "edd76577-6231-4378-b1b9-42d77264f57c",
   "metadata": {
    "tags": []
   },
   "outputs": [
    {
     "name": "stdout",
     "output_type": "stream",
     "text": [
      "[ 1.715e-08 -5.602e-05  7.344e-02  1.980e+01]\n"
     ]
    }
   ],
   "source": [
    "# Datos tabulados\n",
    "S0 = 213.8\n",
    "DFH0 = -393.5e3\n",
    "# Crear la una variable con los coeficientes en el orden que aparecen en tablas\n",
    "ACP_tabla = np.array([19.8, 0.07344, -5.602e-5, 1.715e-8])\n",
    "# Invertir para trabajar con polinomios en potencias en orden decreciente\n",
    "ACP = ACP_tabla[::-1]\n",
    "print(ACP)"
   ]
  },
  {
   "cell_type": "code",
   "execution_count": 4,
   "id": "24c2bd8a-e5a9-4924-9766-de96a6f59708",
   "metadata": {
    "tags": []
   },
   "outputs": [
    {
     "name": "stdout",
     "output_type": "stream",
     "text": [
      "H^ig( 500 K ) =  -385.193 kJ/mol\n"
     ]
    }
   ],
   "source": [
    "# Calculo entalpia\n",
    "ACPi = np.polyint(ACP);\n",
    "HIG = DFH0 + np.polyval(ACPi, T) - np.polyval(ACPi, T_R)\n",
    "print('H^ig(', T, 'K ) = ', HIG.round(0)/1000, 'kJ/mol')"
   ]
  },
  {
   "cell_type": "code",
   "execution_count": 5,
   "id": "d8d2cacb-b9de-4e79-aa24-2f9f0e3e0932",
   "metadata": {
    "tags": []
   },
   "outputs": [],
   "source": [
    "# Calculo entropia\n",
    "ACPTi = np.polyint(ACP[0:-1])  # Para integrar el término independiente aparte\n",
    "SIG = S0 + ACP[-1] * np.log(T/T_R) + np.polyval(ACPTi, T)-np.polyval(ACPTi, T_R)-R*np.log(P/P_R)\n",
    "VIG = R*T/P\n",
    "GIG = HIG-T*SIG"
   ]
  },
  {
   "cell_type": "code",
   "execution_count": null,
   "id": "13401d87-faa0-4f8b-a88a-dcccfd5d72d5",
   "metadata": {
    "tags": []
   },
   "outputs": [],
   "source": [
    "# Imprime propiedades\n",
    "print('Propiedades del CO2 a P =', P/1e5, 'bar,  T = ', T, 'K')\n",
    "print('S^ig = ', SIG.round(1), 'J/mol K')\n",
    "print('H^ig = ', HIG.round(-1)/1000, 'kJ/mol')\n",
    "print('G^ig = ', GIG.round(0)/1000, 'kJ/mol')"
   ]
  },
  {
   "cell_type": "code",
   "execution_count": null,
   "id": "fe6eb01d-c621-4e56-aa4f-ecb47c592610",
   "metadata": {},
   "outputs": [],
   "source": [
    "# Calculo entropia\n",
    "ACPTi = np.polyint(ACP[0:-1])  # Para integrar el término independiente aparte\n",
    "SIG = S0 + ACP[-1] * np.log(T/T_R) + np.polyval(ACPTi, T)-np.polyval(ACPTi, T_R)-R*np.log(P/P_R)\n",
    "VIG = R*T/P\n",
    "GIG = HIG-T*SIG"
   ]
  }
 ],
 "metadata": {
  "kernelspec": {
   "display_name": "Python 3 (ipykernel)",
   "language": "python",
   "name": "python3"
  },
  "language_info": {
   "codemirror_mode": {
    "name": "ipython",
    "version": 3
   },
   "file_extension": ".py",
   "mimetype": "text/x-python",
   "name": "python",
   "nbconvert_exporter": "python",
   "pygments_lexer": "ipython3",
   "version": "3.11.4"
  }
 },
 "nbformat": 4,
 "nbformat_minor": 5
}
